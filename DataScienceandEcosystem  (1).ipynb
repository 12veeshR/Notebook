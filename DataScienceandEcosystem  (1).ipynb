{
 "cells": [
  {
   "cell_type": "markdown",
   "id": "9fbc8b3f",
   "metadata": {},
   "source": [
    "# Data Sience Tools and Ecosystems\n"
   ]
  },
  {
   "cell_type": "markdown",
   "id": "468035ca",
   "metadata": {},
   "source": [
    "In this notebook, Data science tools and Ecosystem are summerized."
   ]
  },
  {
   "cell_type": "markdown",
   "id": "19492fe0",
   "metadata": {},
   "source": [
    "Some of the popular languages that Data scientists use are:\n",
    "1.python\n",
    "2.R\n",
    "3.Scala\n",
    "4.SQL"
   ]
  },
  {
   "cell_type": "markdown",
   "id": "992e901d",
   "metadata": {},
   "source": [
    "Some of the commonly used libraries used by the Data Scientists include:\n",
    "1.Pandas\n",
    "2.NumPy\n",
    "3.SciPy\n",
    "4.Matplotlib\n"
   ]
  },
  {
   "cell_type": "markdown",
   "id": "d6261731",
   "metadata": {},
   "source": [
    "|Data Science Tools|\n",
    "|-------------------|\n",
    "|ApacheSpark|\n",
    "|SAS|\n",
    "|MATLAB|\n"
   ]
  },
  {
   "cell_type": "markdown",
   "id": "04ca7a19",
   "metadata": {},
   "source": [
    "### Below are a few examples of evaluating arithmatic expressions in python"
   ]
  },
  {
   "cell_type": "code",
   "execution_count": 4,
   "id": "a94e77e0",
   "metadata": {},
   "outputs": [
    {
     "data": {
      "text/plain": [
       "17"
      ]
     },
     "execution_count": 4,
     "metadata": {},
     "output_type": "execute_result"
    }
   ],
   "source": [
    "#This is a simple arithmetic expression to multiply then add integers.\n",
    "(3*4)+5"
   ]
  },
  {
   "cell_type": "code",
   "execution_count": 5,
   "id": "b0d203f0",
   "metadata": {},
   "outputs": [
    {
     "data": {
      "text/plain": [
       "3.3333333333333335"
      ]
     },
     "execution_count": 5,
     "metadata": {},
     "output_type": "execute_result"
    }
   ],
   "source": [
    "#This will convert 200 minutes to hours by dividing by 60.\n",
    "200/60"
   ]
  },
  {
   "cell_type": "markdown",
   "id": "f1d6f40f",
   "metadata": {},
   "source": [
    "**Objectives:**\n",
    "* popular languages that data scientist use\n",
    "* data science tools\n",
    "* commonly use libraries in data science\n",
    "* simple arithmetic expressions"
   ]
  },
  {
   "cell_type": "markdown",
   "id": "047652c8",
   "metadata": {},
   "source": [
    "## Raveesha Sanduni\n",
    "Author"
   ]
  }
 ],
 "metadata": {
  "kernelspec": {
   "display_name": "Python 3 (ipykernel)",
   "language": "python",
   "name": "python3"
  },
  "language_info": {
   "codemirror_mode": {
    "name": "ipython",
    "version": 3
   },
   "file_extension": ".py",
   "mimetype": "text/x-python",
   "name": "python",
   "nbconvert_exporter": "python",
   "pygments_lexer": "ipython3",
   "version": "3.11.3"
  }
 },
 "nbformat": 4,
 "nbformat_minor": 5
}
